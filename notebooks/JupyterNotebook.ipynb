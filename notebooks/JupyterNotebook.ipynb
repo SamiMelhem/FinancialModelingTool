{
 "cells": [
  {
   "cell_type": "code",
   "execution_count": 4,
   "metadata": {},
   "outputs": [
    {
     "name": "stderr",
     "output_type": "stream",
     "text": [
      "[*********************100%%**********************]  1 of 1 completed"
     ]
    },
    {
     "name": "stdout",
     "output_type": "stream",
     "text": [
      "Data saved to data/AAPL_historical_data.csv\n"
     ]
    },
    {
     "name": "stderr",
     "output_type": "stream",
     "text": [
      "\n"
     ]
    }
   ],
   "source": [
    "# Data Collection Notebook\n",
    "\n",
    "# impart necessary libraries\n",
    "import yfinance as yf\n",
    "import pandas as pd\n",
    "\n",
    "def fetch_data(ticker, start_date, end_date):\n",
    "    \"\"\"\n",
    "    Fetch historical data for the given ticker symbol from Yahoo Finance\n",
    "\n",
    "    :param ticker: Stock ticker symbol (e.g., 'AAPL' for Apple)\n",
    "    :param start_date: Start date for fetching data (format: 'YYYY-MM-DD')\n",
    "    :param end_date: End date for fetching data (format: 'YYYY-MM-DD')\n",
    "    :return: DataFrame containing the historical data\n",
    "    \"\"\"\n",
    "    data = yf.download(ticker, start=start_date, end=end_date)\n",
    "    return data\n",
    "\n",
    "def main():\n",
    "    ticker = \"AAPL\"\n",
    "    start_date = '2000-01-01'\n",
    "    end_date = '2023-01-01'\n",
    "\n",
    "    dataframe = fetch_data(ticker, start_date, end_date)\n",
    "\n",
    "    dataframe.head()\n",
    "\n",
    "    dataframe.to_csv(f'C:\\\\Users\\\\samim\\\\OneDrive\\\\Documents\\\\Projects\\\\FinancialModelingTool\\\\data\\\\{ticker}_historical_data.csv')\n",
    "    print(f\"Data saved to data/{ticker}_historical_data.csv\")\n",
    "\n",
    "if __name__ == '__main__':\n",
    "    main()\n",
    "\n"
   ]
  }
 ],
 "metadata": {
  "kernelspec": {
   "display_name": "venv",
   "language": "python",
   "name": "python3"
  },
  "language_info": {
   "codemirror_mode": {
    "name": "ipython",
    "version": 3
   },
   "file_extension": ".py",
   "mimetype": "text/x-python",
   "name": "python",
   "nbconvert_exporter": "python",
   "pygments_lexer": "ipython3",
   "version": "3.12.4"
  }
 },
 "nbformat": 4,
 "nbformat_minor": 2
}
